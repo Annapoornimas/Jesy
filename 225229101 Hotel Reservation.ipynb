{
 "cells": [
  {
   "cell_type": "markdown",
   "id": "f94910d7",
   "metadata": {},
   "source": [
    "### Import Dataset"
   ]
  },
  {
   "cell_type": "code",
   "execution_count": 1,
   "id": "9f451cda",
   "metadata": {
    "execution": {
     "iopub.execute_input": "2023-02-02T12:04:17.250741Z",
     "iopub.status.busy": "2023-02-02T12:04:17.250347Z",
     "iopub.status.idle": "2023-02-02T12:04:17.260294Z",
     "shell.execute_reply": "2023-02-02T12:04:17.259289Z"
    },
    "id": "gzi1PcztB-id",
    "papermill": {
     "duration": 0.021287,
     "end_time": "2023-02-02T12:04:17.262997",
     "exception": false,
     "start_time": "2023-02-02T12:04:17.241710",
     "status": "completed"
    },
    "tags": []
   },
   "outputs": [],
   "source": [
    "import pandas as pd\n",
    "import numpy as np\n",
    "import matplotlib.pyplot as plt"
   ]
  },
  {
   "cell_type": "code",
   "execution_count": 2,
   "id": "f9635331",
   "metadata": {
    "execution": {
     "iopub.execute_input": "2023-02-02T12:04:17.277641Z",
     "iopub.status.busy": "2023-02-02T12:04:17.277212Z",
     "iopub.status.idle": "2023-02-02T12:04:17.430986Z",
     "shell.execute_reply": "2023-02-02T12:04:17.429849Z"
    },
    "id": "4WQ7znMgCCwq",
    "outputId": "67d7e00b-e307-4534-b8c4-7bff7f4a4044",
    "papermill": {
     "duration": 0.163777,
     "end_time": "2023-02-02T12:04:17.433366",
     "exception": false,
     "start_time": "2023-02-02T12:04:17.269589",
     "status": "completed"
    },
    "tags": []
   },
   "outputs": [
    {
     "data": {
      "text/html": [
       "<div>\n",
       "<style scoped>\n",
       "    .dataframe tbody tr th:only-of-type {\n",
       "        vertical-align: middle;\n",
       "    }\n",
       "\n",
       "    .dataframe tbody tr th {\n",
       "        vertical-align: top;\n",
       "    }\n",
       "\n",
       "    .dataframe thead th {\n",
       "        text-align: right;\n",
       "    }\n",
       "</style>\n",
       "<table border=\"1\" class=\"dataframe\">\n",
       "  <thead>\n",
       "    <tr style=\"text-align: right;\">\n",
       "      <th></th>\n",
       "      <th>Booking_ID</th>\n",
       "      <th>no_of_adults</th>\n",
       "      <th>no_of_children</th>\n",
       "      <th>no_of_weekend_nights</th>\n",
       "      <th>no_of_week_nights</th>\n",
       "      <th>type_of_meal_plan</th>\n",
       "      <th>required_car_parking_space</th>\n",
       "      <th>room_type_reserved</th>\n",
       "      <th>lead_time</th>\n",
       "      <th>arrival_year</th>\n",
       "      <th>arrival_month</th>\n",
       "      <th>arrival_date</th>\n",
       "      <th>market_segment_type</th>\n",
       "      <th>repeated_guest</th>\n",
       "      <th>no_of_previous_cancellations</th>\n",
       "      <th>no_of_previous_bookings_not_canceled</th>\n",
       "      <th>avg_price_per_room</th>\n",
       "      <th>no_of_special_requests</th>\n",
       "      <th>booking_status</th>\n",
       "    </tr>\n",
       "  </thead>\n",
       "  <tbody>\n",
       "    <tr>\n",
       "      <th>0</th>\n",
       "      <td>INN00001</td>\n",
       "      <td>2</td>\n",
       "      <td>0</td>\n",
       "      <td>1</td>\n",
       "      <td>2</td>\n",
       "      <td>Meal Plan 1</td>\n",
       "      <td>0</td>\n",
       "      <td>Room_Type 1</td>\n",
       "      <td>224</td>\n",
       "      <td>2017</td>\n",
       "      <td>10</td>\n",
       "      <td>2</td>\n",
       "      <td>Offline</td>\n",
       "      <td>0</td>\n",
       "      <td>0</td>\n",
       "      <td>0</td>\n",
       "      <td>65.00</td>\n",
       "      <td>0</td>\n",
       "      <td>Not_Canceled</td>\n",
       "    </tr>\n",
       "    <tr>\n",
       "      <th>1</th>\n",
       "      <td>INN00002</td>\n",
       "      <td>2</td>\n",
       "      <td>0</td>\n",
       "      <td>2</td>\n",
       "      <td>3</td>\n",
       "      <td>Not Selected</td>\n",
       "      <td>0</td>\n",
       "      <td>Room_Type 1</td>\n",
       "      <td>5</td>\n",
       "      <td>2018</td>\n",
       "      <td>11</td>\n",
       "      <td>6</td>\n",
       "      <td>Online</td>\n",
       "      <td>0</td>\n",
       "      <td>0</td>\n",
       "      <td>0</td>\n",
       "      <td>106.68</td>\n",
       "      <td>1</td>\n",
       "      <td>Not_Canceled</td>\n",
       "    </tr>\n",
       "    <tr>\n",
       "      <th>2</th>\n",
       "      <td>INN00003</td>\n",
       "      <td>1</td>\n",
       "      <td>0</td>\n",
       "      <td>2</td>\n",
       "      <td>1</td>\n",
       "      <td>Meal Plan 1</td>\n",
       "      <td>0</td>\n",
       "      <td>Room_Type 1</td>\n",
       "      <td>1</td>\n",
       "      <td>2018</td>\n",
       "      <td>2</td>\n",
       "      <td>28</td>\n",
       "      <td>Online</td>\n",
       "      <td>0</td>\n",
       "      <td>0</td>\n",
       "      <td>0</td>\n",
       "      <td>60.00</td>\n",
       "      <td>0</td>\n",
       "      <td>Canceled</td>\n",
       "    </tr>\n",
       "    <tr>\n",
       "      <th>3</th>\n",
       "      <td>INN00004</td>\n",
       "      <td>2</td>\n",
       "      <td>0</td>\n",
       "      <td>0</td>\n",
       "      <td>2</td>\n",
       "      <td>Meal Plan 1</td>\n",
       "      <td>0</td>\n",
       "      <td>Room_Type 1</td>\n",
       "      <td>211</td>\n",
       "      <td>2018</td>\n",
       "      <td>5</td>\n",
       "      <td>20</td>\n",
       "      <td>Online</td>\n",
       "      <td>0</td>\n",
       "      <td>0</td>\n",
       "      <td>0</td>\n",
       "      <td>100.00</td>\n",
       "      <td>0</td>\n",
       "      <td>Canceled</td>\n",
       "    </tr>\n",
       "    <tr>\n",
       "      <th>4</th>\n",
       "      <td>INN00005</td>\n",
       "      <td>2</td>\n",
       "      <td>0</td>\n",
       "      <td>1</td>\n",
       "      <td>1</td>\n",
       "      <td>Not Selected</td>\n",
       "      <td>0</td>\n",
       "      <td>Room_Type 1</td>\n",
       "      <td>48</td>\n",
       "      <td>2018</td>\n",
       "      <td>4</td>\n",
       "      <td>11</td>\n",
       "      <td>Online</td>\n",
       "      <td>0</td>\n",
       "      <td>0</td>\n",
       "      <td>0</td>\n",
       "      <td>94.50</td>\n",
       "      <td>0</td>\n",
       "      <td>Canceled</td>\n",
       "    </tr>\n",
       "  </tbody>\n",
       "</table>\n",
       "</div>"
      ],
      "text/plain": [
       "  Booking_ID  no_of_adults  no_of_children  no_of_weekend_nights  \\\n",
       "0   INN00001             2               0                     1   \n",
       "1   INN00002             2               0                     2   \n",
       "2   INN00003             1               0                     2   \n",
       "3   INN00004             2               0                     0   \n",
       "4   INN00005             2               0                     1   \n",
       "\n",
       "   no_of_week_nights type_of_meal_plan  required_car_parking_space  \\\n",
       "0                  2       Meal Plan 1                           0   \n",
       "1                  3      Not Selected                           0   \n",
       "2                  1       Meal Plan 1                           0   \n",
       "3                  2       Meal Plan 1                           0   \n",
       "4                  1      Not Selected                           0   \n",
       "\n",
       "  room_type_reserved  lead_time  arrival_year  arrival_month  arrival_date  \\\n",
       "0        Room_Type 1        224          2017             10             2   \n",
       "1        Room_Type 1          5          2018             11             6   \n",
       "2        Room_Type 1          1          2018              2            28   \n",
       "3        Room_Type 1        211          2018              5            20   \n",
       "4        Room_Type 1         48          2018              4            11   \n",
       "\n",
       "  market_segment_type  repeated_guest  no_of_previous_cancellations  \\\n",
       "0             Offline               0                             0   \n",
       "1              Online               0                             0   \n",
       "2              Online               0                             0   \n",
       "3              Online               0                             0   \n",
       "4              Online               0                             0   \n",
       "\n",
       "   no_of_previous_bookings_not_canceled  avg_price_per_room  \\\n",
       "0                                     0               65.00   \n",
       "1                                     0              106.68   \n",
       "2                                     0               60.00   \n",
       "3                                     0              100.00   \n",
       "4                                     0               94.50   \n",
       "\n",
       "   no_of_special_requests booking_status  \n",
       "0                       0   Not_Canceled  \n",
       "1                       1   Not_Canceled  \n",
       "2                       0       Canceled  \n",
       "3                       0       Canceled  \n",
       "4                       0       Canceled  "
      ]
     },
     "execution_count": 2,
     "metadata": {},
     "output_type": "execute_result"
    }
   ],
   "source": [
    "df=pd.read_csv(\"Hotel Reservations.csv\")\n",
    "df.head()\n"
   ]
  },
  {
   "cell_type": "markdown",
   "id": "ad3c0834",
   "metadata": {
    "id": "fMLJ6_0v6iOB",
    "papermill": {
     "duration": 0.006905,
     "end_time": "2023-02-02T12:04:17.446888",
     "exception": false,
     "start_time": "2023-02-02T12:04:17.439983",
     "status": "completed"
    },
    "tags": []
   },
   "source": [
    "**Cleaning the data make it numberic value**"
   ]
  },
  {
   "cell_type": "code",
   "execution_count": 3,
   "id": "bb7e6f4c",
   "metadata": {
    "execution": {
     "iopub.execute_input": "2023-02-02T12:04:17.461663Z",
     "iopub.status.busy": "2023-02-02T12:04:17.461281Z",
     "iopub.status.idle": "2023-02-02T12:04:17.527584Z",
     "shell.execute_reply": "2023-02-02T12:04:17.526608Z"
    },
    "id": "834mdqHlJXd1",
    "papermill": {
     "duration": 0.076574,
     "end_time": "2023-02-02T12:04:17.530031",
     "exception": false,
     "start_time": "2023-02-02T12:04:17.453457",
     "status": "completed"
    },
    "tags": []
   },
   "outputs": [],
   "source": [
    "data = df.replace({\"type_of_meal_plan\":{\"Not Selected\":0,\"Meal Plan 1\":1,\"Meal Plan 2\":2, \"Meal Plan 3\":3},\n",
    "                        \"room_type_reserved\":{\"Room_Type 1\":1,\"Room_Type 2\":2,\"Room_Type 3\":3,\"Room_Type 4\":4,\"Room_Type 5\":5,\"Room_Type 6\":6,\"Room_Type 7\":7},\n",
    "                        \"market_segment_type\":{\"Offline\":0,\"Online\":1, \"Corporate\":3,\"Aviation\": 4,\"Complementary\":5},\n",
    "                        \"booking_status\":{\"Canceled\":0,\"Not_Canceled\":1}})"
   ]
  },
  {
   "cell_type": "code",
   "execution_count": 4,
   "id": "57bff6e4",
   "metadata": {
    "execution": {
     "iopub.execute_input": "2023-02-02T12:04:17.592604Z",
     "iopub.status.busy": "2023-02-02T12:04:17.592205Z",
     "iopub.status.idle": "2023-02-02T12:04:17.621356Z",
     "shell.execute_reply": "2023-02-02T12:04:17.618915Z"
    },
    "id": "noUE-ayqCrqY",
    "outputId": "cc845e99-59c2-4d4d-ba7a-8b829e6e5f4d",
    "papermill": {
     "duration": 0.040838,
     "end_time": "2023-02-02T12:04:17.624167",
     "exception": false,
     "start_time": "2023-02-02T12:04:17.583329",
     "status": "completed"
    },
    "tags": []
   },
   "outputs": [
    {
     "name": "stdout",
     "output_type": "stream",
     "text": [
      "<class 'pandas.core.frame.DataFrame'>\n",
      "RangeIndex: 36275 entries, 0 to 36274\n",
      "Data columns (total 19 columns):\n",
      " #   Column                                Non-Null Count  Dtype  \n",
      "---  ------                                --------------  -----  \n",
      " 0   Booking_ID                            36275 non-null  object \n",
      " 1   no_of_adults                          36275 non-null  int64  \n",
      " 2   no_of_children                        36275 non-null  int64  \n",
      " 3   no_of_weekend_nights                  36275 non-null  int64  \n",
      " 4   no_of_week_nights                     36275 non-null  int64  \n",
      " 5   type_of_meal_plan                     36275 non-null  int64  \n",
      " 6   required_car_parking_space            36275 non-null  int64  \n",
      " 7   room_type_reserved                    36275 non-null  int64  \n",
      " 8   lead_time                             36275 non-null  int64  \n",
      " 9   arrival_year                          36275 non-null  int64  \n",
      " 10  arrival_month                         36275 non-null  int64  \n",
      " 11  arrival_date                          36275 non-null  int64  \n",
      " 12  market_segment_type                   36275 non-null  int64  \n",
      " 13  repeated_guest                        36275 non-null  int64  \n",
      " 14  no_of_previous_cancellations          36275 non-null  int64  \n",
      " 15  no_of_previous_bookings_not_canceled  36275 non-null  int64  \n",
      " 16  avg_price_per_room                    36275 non-null  float64\n",
      " 17  no_of_special_requests                36275 non-null  int64  \n",
      " 18  booking_status                        36275 non-null  int64  \n",
      "dtypes: float64(1), int64(17), object(1)\n",
      "memory usage: 5.3+ MB\n"
     ]
    }
   ],
   "source": [
    "data.info()"
   ]
  },
  {
   "cell_type": "code",
   "execution_count": 5,
   "id": "8b1f1de1",
   "metadata": {
    "execution": {
     "iopub.execute_input": "2023-02-02T12:04:17.654539Z",
     "iopub.status.busy": "2023-02-02T12:04:17.654118Z",
     "iopub.status.idle": "2023-02-02T12:04:17.733140Z",
     "shell.execute_reply": "2023-02-02T12:04:17.731712Z"
    },
    "id": "1QHwuFkpEFKZ",
    "outputId": "4359f28d-928d-41fc-f7fd-7631d74a88af",
    "papermill": {
     "duration": 0.090215,
     "end_time": "2023-02-02T12:04:17.735784",
     "exception": false,
     "start_time": "2023-02-02T12:04:17.645569",
     "status": "completed"
    },
    "tags": []
   },
   "outputs": [
    {
     "data": {
      "text/html": [
       "<div>\n",
       "<style scoped>\n",
       "    .dataframe tbody tr th:only-of-type {\n",
       "        vertical-align: middle;\n",
       "    }\n",
       "\n",
       "    .dataframe tbody tr th {\n",
       "        vertical-align: top;\n",
       "    }\n",
       "\n",
       "    .dataframe thead th {\n",
       "        text-align: right;\n",
       "    }\n",
       "</style>\n",
       "<table border=\"1\" class=\"dataframe\">\n",
       "  <thead>\n",
       "    <tr style=\"text-align: right;\">\n",
       "      <th></th>\n",
       "      <th>no_of_adults</th>\n",
       "      <th>no_of_children</th>\n",
       "      <th>no_of_weekend_nights</th>\n",
       "      <th>no_of_week_nights</th>\n",
       "      <th>type_of_meal_plan</th>\n",
       "      <th>required_car_parking_space</th>\n",
       "      <th>room_type_reserved</th>\n",
       "      <th>lead_time</th>\n",
       "      <th>arrival_year</th>\n",
       "      <th>arrival_month</th>\n",
       "      <th>arrival_date</th>\n",
       "      <th>market_segment_type</th>\n",
       "      <th>repeated_guest</th>\n",
       "      <th>no_of_previous_cancellations</th>\n",
       "      <th>no_of_previous_bookings_not_canceled</th>\n",
       "      <th>avg_price_per_room</th>\n",
       "      <th>no_of_special_requests</th>\n",
       "      <th>booking_status</th>\n",
       "    </tr>\n",
       "  </thead>\n",
       "  <tbody>\n",
       "    <tr>\n",
       "      <th>count</th>\n",
       "      <td>36275.000000</td>\n",
       "      <td>36275.000000</td>\n",
       "      <td>36275.000000</td>\n",
       "      <td>36275.000000</td>\n",
       "      <td>36275.000000</td>\n",
       "      <td>36275.000000</td>\n",
       "      <td>36275.000000</td>\n",
       "      <td>36275.000000</td>\n",
       "      <td>36275.000000</td>\n",
       "      <td>36275.000000</td>\n",
       "      <td>36275.000000</td>\n",
       "      <td>36275.000000</td>\n",
       "      <td>36275.000000</td>\n",
       "      <td>36275.000000</td>\n",
       "      <td>36275.000000</td>\n",
       "      <td>36275.000000</td>\n",
       "      <td>36275.000000</td>\n",
       "      <td>36275.000000</td>\n",
       "    </tr>\n",
       "    <tr>\n",
       "      <th>mean</th>\n",
       "      <td>1.844962</td>\n",
       "      <td>0.105279</td>\n",
       "      <td>0.810724</td>\n",
       "      <td>2.204300</td>\n",
       "      <td>0.949966</td>\n",
       "      <td>0.030986</td>\n",
       "      <td>1.708890</td>\n",
       "      <td>85.232557</td>\n",
       "      <td>2017.820427</td>\n",
       "      <td>7.423653</td>\n",
       "      <td>15.596995</td>\n",
       "      <td>0.874431</td>\n",
       "      <td>0.025637</td>\n",
       "      <td>0.023349</td>\n",
       "      <td>0.153411</td>\n",
       "      <td>103.423539</td>\n",
       "      <td>0.619655</td>\n",
       "      <td>0.672364</td>\n",
       "    </tr>\n",
       "    <tr>\n",
       "      <th>std</th>\n",
       "      <td>0.518715</td>\n",
       "      <td>0.402648</td>\n",
       "      <td>0.870644</td>\n",
       "      <td>1.410905</td>\n",
       "      <td>0.480191</td>\n",
       "      <td>0.173281</td>\n",
       "      <td>1.399851</td>\n",
       "      <td>85.930817</td>\n",
       "      <td>0.383836</td>\n",
       "      <td>3.069894</td>\n",
       "      <td>8.740447</td>\n",
       "      <td>0.836878</td>\n",
       "      <td>0.158053</td>\n",
       "      <td>0.368331</td>\n",
       "      <td>1.754171</td>\n",
       "      <td>35.089424</td>\n",
       "      <td>0.786236</td>\n",
       "      <td>0.469358</td>\n",
       "    </tr>\n",
       "    <tr>\n",
       "      <th>min</th>\n",
       "      <td>0.000000</td>\n",
       "      <td>0.000000</td>\n",
       "      <td>0.000000</td>\n",
       "      <td>0.000000</td>\n",
       "      <td>0.000000</td>\n",
       "      <td>0.000000</td>\n",
       "      <td>1.000000</td>\n",
       "      <td>0.000000</td>\n",
       "      <td>2017.000000</td>\n",
       "      <td>1.000000</td>\n",
       "      <td>1.000000</td>\n",
       "      <td>0.000000</td>\n",
       "      <td>0.000000</td>\n",
       "      <td>0.000000</td>\n",
       "      <td>0.000000</td>\n",
       "      <td>0.000000</td>\n",
       "      <td>0.000000</td>\n",
       "      <td>0.000000</td>\n",
       "    </tr>\n",
       "    <tr>\n",
       "      <th>25%</th>\n",
       "      <td>2.000000</td>\n",
       "      <td>0.000000</td>\n",
       "      <td>0.000000</td>\n",
       "      <td>1.000000</td>\n",
       "      <td>1.000000</td>\n",
       "      <td>0.000000</td>\n",
       "      <td>1.000000</td>\n",
       "      <td>17.000000</td>\n",
       "      <td>2018.000000</td>\n",
       "      <td>5.000000</td>\n",
       "      <td>8.000000</td>\n",
       "      <td>0.000000</td>\n",
       "      <td>0.000000</td>\n",
       "      <td>0.000000</td>\n",
       "      <td>0.000000</td>\n",
       "      <td>80.300000</td>\n",
       "      <td>0.000000</td>\n",
       "      <td>0.000000</td>\n",
       "    </tr>\n",
       "    <tr>\n",
       "      <th>50%</th>\n",
       "      <td>2.000000</td>\n",
       "      <td>0.000000</td>\n",
       "      <td>1.000000</td>\n",
       "      <td>2.000000</td>\n",
       "      <td>1.000000</td>\n",
       "      <td>0.000000</td>\n",
       "      <td>1.000000</td>\n",
       "      <td>57.000000</td>\n",
       "      <td>2018.000000</td>\n",
       "      <td>8.000000</td>\n",
       "      <td>16.000000</td>\n",
       "      <td>1.000000</td>\n",
       "      <td>0.000000</td>\n",
       "      <td>0.000000</td>\n",
       "      <td>0.000000</td>\n",
       "      <td>99.450000</td>\n",
       "      <td>0.000000</td>\n",
       "      <td>1.000000</td>\n",
       "    </tr>\n",
       "    <tr>\n",
       "      <th>75%</th>\n",
       "      <td>2.000000</td>\n",
       "      <td>0.000000</td>\n",
       "      <td>2.000000</td>\n",
       "      <td>3.000000</td>\n",
       "      <td>1.000000</td>\n",
       "      <td>0.000000</td>\n",
       "      <td>1.000000</td>\n",
       "      <td>126.000000</td>\n",
       "      <td>2018.000000</td>\n",
       "      <td>10.000000</td>\n",
       "      <td>23.000000</td>\n",
       "      <td>1.000000</td>\n",
       "      <td>0.000000</td>\n",
       "      <td>0.000000</td>\n",
       "      <td>0.000000</td>\n",
       "      <td>120.000000</td>\n",
       "      <td>1.000000</td>\n",
       "      <td>1.000000</td>\n",
       "    </tr>\n",
       "    <tr>\n",
       "      <th>max</th>\n",
       "      <td>4.000000</td>\n",
       "      <td>10.000000</td>\n",
       "      <td>7.000000</td>\n",
       "      <td>17.000000</td>\n",
       "      <td>3.000000</td>\n",
       "      <td>1.000000</td>\n",
       "      <td>7.000000</td>\n",
       "      <td>443.000000</td>\n",
       "      <td>2018.000000</td>\n",
       "      <td>12.000000</td>\n",
       "      <td>31.000000</td>\n",
       "      <td>5.000000</td>\n",
       "      <td>1.000000</td>\n",
       "      <td>13.000000</td>\n",
       "      <td>58.000000</td>\n",
       "      <td>540.000000</td>\n",
       "      <td>5.000000</td>\n",
       "      <td>1.000000</td>\n",
       "    </tr>\n",
       "  </tbody>\n",
       "</table>\n",
       "</div>"
      ],
      "text/plain": [
       "       no_of_adults  no_of_children  no_of_weekend_nights  no_of_week_nights  \\\n",
       "count  36275.000000    36275.000000          36275.000000       36275.000000   \n",
       "mean       1.844962        0.105279              0.810724           2.204300   \n",
       "std        0.518715        0.402648              0.870644           1.410905   \n",
       "min        0.000000        0.000000              0.000000           0.000000   \n",
       "25%        2.000000        0.000000              0.000000           1.000000   \n",
       "50%        2.000000        0.000000              1.000000           2.000000   \n",
       "75%        2.000000        0.000000              2.000000           3.000000   \n",
       "max        4.000000       10.000000              7.000000          17.000000   \n",
       "\n",
       "       type_of_meal_plan  required_car_parking_space  room_type_reserved  \\\n",
       "count       36275.000000                36275.000000        36275.000000   \n",
       "mean            0.949966                    0.030986            1.708890   \n",
       "std             0.480191                    0.173281            1.399851   \n",
       "min             0.000000                    0.000000            1.000000   \n",
       "25%             1.000000                    0.000000            1.000000   \n",
       "50%             1.000000                    0.000000            1.000000   \n",
       "75%             1.000000                    0.000000            1.000000   \n",
       "max             3.000000                    1.000000            7.000000   \n",
       "\n",
       "          lead_time  arrival_year  arrival_month  arrival_date  \\\n",
       "count  36275.000000  36275.000000   36275.000000  36275.000000   \n",
       "mean      85.232557   2017.820427       7.423653     15.596995   \n",
       "std       85.930817      0.383836       3.069894      8.740447   \n",
       "min        0.000000   2017.000000       1.000000      1.000000   \n",
       "25%       17.000000   2018.000000       5.000000      8.000000   \n",
       "50%       57.000000   2018.000000       8.000000     16.000000   \n",
       "75%      126.000000   2018.000000      10.000000     23.000000   \n",
       "max      443.000000   2018.000000      12.000000     31.000000   \n",
       "\n",
       "       market_segment_type  repeated_guest  no_of_previous_cancellations  \\\n",
       "count         36275.000000    36275.000000                  36275.000000   \n",
       "mean              0.874431        0.025637                      0.023349   \n",
       "std               0.836878        0.158053                      0.368331   \n",
       "min               0.000000        0.000000                      0.000000   \n",
       "25%               0.000000        0.000000                      0.000000   \n",
       "50%               1.000000        0.000000                      0.000000   \n",
       "75%               1.000000        0.000000                      0.000000   \n",
       "max               5.000000        1.000000                     13.000000   \n",
       "\n",
       "       no_of_previous_bookings_not_canceled  avg_price_per_room  \\\n",
       "count                          36275.000000        36275.000000   \n",
       "mean                               0.153411          103.423539   \n",
       "std                                1.754171           35.089424   \n",
       "min                                0.000000            0.000000   \n",
       "25%                                0.000000           80.300000   \n",
       "50%                                0.000000           99.450000   \n",
       "75%                                0.000000          120.000000   \n",
       "max                               58.000000          540.000000   \n",
       "\n",
       "       no_of_special_requests  booking_status  \n",
       "count            36275.000000    36275.000000  \n",
       "mean                 0.619655        0.672364  \n",
       "std                  0.786236        0.469358  \n",
       "min                  0.000000        0.000000  \n",
       "25%                  0.000000        0.000000  \n",
       "50%                  0.000000        1.000000  \n",
       "75%                  1.000000        1.000000  \n",
       "max                  5.000000        1.000000  "
      ]
     },
     "execution_count": 5,
     "metadata": {},
     "output_type": "execute_result"
    }
   ],
   "source": [
    "data.describe()"
   ]
  },
  {
   "cell_type": "code",
   "execution_count": 7,
   "id": "9c651e5c",
   "metadata": {
    "execution": {
     "iopub.execute_input": "2023-02-02T12:04:17.766440Z",
     "iopub.status.busy": "2023-02-02T12:04:17.766022Z",
     "iopub.status.idle": "2023-02-02T12:04:17.788578Z",
     "shell.execute_reply": "2023-02-02T12:04:17.787641Z"
    },
    "id": "clYqTx9bEV57",
    "outputId": "efe64ad1-624f-431e-8c6b-6e5891bf33a7",
    "papermill": {
     "duration": 0.033771,
     "end_time": "2023-02-02T12:04:17.790682",
     "exception": false,
     "start_time": "2023-02-02T12:04:17.756911",
     "status": "completed"
    },
    "tags": []
   },
   "outputs": [
    {
     "data": {
      "text/plain": [
       "no_of_adults                           -0.086920\n",
       "no_of_children                         -0.033078\n",
       "no_of_weekend_nights                   -0.061563\n",
       "no_of_week_nights                      -0.092996\n",
       "type_of_meal_plan                      -0.049374\n",
       "required_car_parking_space              0.086185\n",
       "room_type_reserved                     -0.022986\n",
       "lead_time                              -0.438538\n",
       "arrival_year                           -0.179529\n",
       "arrival_month                           0.011233\n",
       "arrival_date                           -0.010629\n",
       "market_segment_type                     0.077877\n",
       "repeated_guest                          0.107287\n",
       "no_of_previous_cancellations            0.033728\n",
       "no_of_previous_bookings_not_canceled    0.060179\n",
       "avg_price_per_room                     -0.142569\n",
       "no_of_special_requests                  0.253070\n",
       "dtype: float64"
      ]
     },
     "execution_count": 7,
     "metadata": {},
     "output_type": "execute_result"
    }
   ],
   "source": [
    "data.drop([\"booking_status\"],axis=1).corrwith(data[\"booking_status\"])"
   ]
  },
  {
   "cell_type": "markdown",
   "id": "3d385942",
   "metadata": {
    "id": "SfTTu2rf7lXx",
    "papermill": {
     "duration": 0.008691,
     "end_time": "2023-02-02T12:05:10.828222",
     "exception": false,
     "start_time": "2023-02-02T12:05:10.819531",
     "status": "completed"
    },
    "tags": []
   },
   "source": [
    "**Build the data training and Test Set**"
   ]
  },
  {
   "cell_type": "code",
   "execution_count": 8,
   "id": "662224ec",
   "metadata": {
    "execution": {
     "iopub.execute_input": "2023-02-02T12:05:10.848728Z",
     "iopub.status.busy": "2023-02-02T12:05:10.848232Z",
     "iopub.status.idle": "2023-02-02T12:05:11.084215Z",
     "shell.execute_reply": "2023-02-02T12:05:11.082605Z"
    },
    "id": "LSW-_KdlXm9a",
    "papermill": {
     "duration": 0.248795,
     "end_time": "2023-02-02T12:05:11.086630",
     "exception": false,
     "start_time": "2023-02-02T12:05:10.837835",
     "status": "completed"
    },
    "tags": []
   },
   "outputs": [],
   "source": [
    "from sklearn.model_selection import train_test_split\n",
    "from sklearn import preprocessing\n",
    "X = data.drop([\"Booking_ID\",\"arrival_month\",\"arrival_date\", \"booking_status\"],axis=1)\n",
    "y = data[\"booking_status\"]\n",
    "X_train, X_test, y_train, y_test = train_test_split(X, y, test_size=0.33, random_state=42)"
   ]
  },
  {
   "cell_type": "markdown",
   "id": "38c7ea94",
   "metadata": {
    "id": "91BPwhbztogL",
    "papermill": {
     "duration": 0.0085,
     "end_time": "2023-02-02T12:05:11.103971",
     "exception": false,
     "start_time": "2023-02-02T12:05:11.095471",
     "status": "completed"
    },
    "tags": []
   },
   "source": [
    "**Make model pipeline**"
   ]
  },
  {
   "cell_type": "code",
   "execution_count": 9,
   "id": "8e547134",
   "metadata": {
    "execution": {
     "iopub.execute_input": "2023-02-02T12:05:11.123623Z",
     "iopub.status.busy": "2023-02-02T12:05:11.123245Z",
     "iopub.status.idle": "2023-02-02T12:05:11.371586Z",
     "shell.execute_reply": "2023-02-02T12:05:11.369794Z"
    },
    "id": "QaQZi2nYtFpS",
    "papermill": {
     "duration": 0.261509,
     "end_time": "2023-02-02T12:05:11.374422",
     "exception": false,
     "start_time": "2023-02-02T12:05:11.112913",
     "status": "completed"
    },
    "tags": []
   },
   "outputs": [],
   "source": [
    "from sklearn.linear_model import LogisticRegression\n",
    "from sklearn.svm import SVC\n",
    "from sklearn.neighbors import KNeighborsClassifier\n",
    "from sklearn.tree import DecisionTreeClassifier\n",
    "from sklearn.ensemble import RandomForestClassifier\n",
    "from sklearn.naive_bayes import GaussianNB\n",
    "\n",
    "model_pipeline = []\n",
    "model_pipeline.append(LogisticRegression(solver='liblinear'))\n",
    "model_pipeline.append(SVC())\n",
    "model_pipeline.append(KNeighborsClassifier())\n",
    "model_pipeline.append(DecisionTreeClassifier())\n",
    "model_pipeline.append(RandomForestClassifier())\n",
    "model_pipeline.append(GaussianNB())"
   ]
  },
  {
   "cell_type": "code",
   "execution_count": null,
   "id": "e0886883",
   "metadata": {
    "execution": {
     "iopub.execute_input": "2023-02-02T12:05:11.393798Z",
     "iopub.status.busy": "2023-02-02T12:05:11.393434Z",
     "iopub.status.idle": "2023-02-02T12:05:43.400665Z",
     "shell.execute_reply": "2023-02-02T12:05:43.399348Z"
    },
    "id": "i5ITWyzMwe04",
    "papermill": {
     "duration": 32.020094,
     "end_time": "2023-02-02T12:05:43.403363",
     "exception": false,
     "start_time": "2023-02-02T12:05:11.383269",
     "status": "completed"
    },
    "tags": []
   },
   "outputs": [],
   "source": [
    "from sklearn import metrics\n",
    "from sklearn.metrics import classification_report\n",
    "from sklearn.metrics import confusion_matrix\n",
    "\n",
    "model_list = [\"Logistic Regression\", \"SVM\", \"KNN\", \"Decision Tree\", \"Random Forest\", \"Naive Bayes\"]\n",
    "acc_list =[]\n",
    "auc_list = []\n",
    "cm_list = []\n",
    "\n",
    "for model in model_pipeline:\n",
    "    model.fit(X_train, y_train)\n",
    "    y_pred = model.predict(X_test)\n",
    "    acc_list.append(metrics.accuracy_score(y_test,y_pred))\n",
    "    fpr, tpr ,_tresholds = metrics.roc_curve(y_test,y_pred)\n",
    "    auc_list.append(round(metrics.auc(fpr,tpr),2))\n",
    "    cm_list.append(confusion_matrix(y_test,y_pred))"
   ]
  },
  {
   "cell_type": "markdown",
   "id": "8a13afe8",
   "metadata": {
    "id": "vvaA4zET7vRF",
    "papermill": {
     "duration": 0.008447,
     "end_time": "2023-02-02T12:05:43.420540",
     "exception": false,
     "start_time": "2023-02-02T12:05:43.412093",
     "status": "completed"
    },
    "tags": []
   },
   "source": [
    "**Make heatmap result from test data set**"
   ]
  },
  {
   "cell_type": "code",
   "execution_count": null,
   "id": "4902cf12",
   "metadata": {
    "execution": {
     "iopub.execute_input": "2023-02-02T12:05:43.439341Z",
     "iopub.status.busy": "2023-02-02T12:05:43.438973Z",
     "iopub.status.idle": "2023-02-02T12:05:44.561292Z",
     "shell.execute_reply": "2023-02-02T12:05:44.559768Z"
    },
    "id": "YWoZWctMsDQ4",
    "outputId": "12712a77-3003-4b35-da8e-5d265b63e166",
    "papermill": {
     "duration": 1.134959,
     "end_time": "2023-02-02T12:05:44.564058",
     "exception": false,
     "start_time": "2023-02-02T12:05:43.429099",
     "status": "completed"
    },
    "tags": []
   },
   "outputs": [],
   "source": [
    "fig = plt.figure(figsize=(18,10))\n",
    "for i in range(len(cm_list)):\n",
    "    cm = cm_list[i]\n",
    "    model= model_list[i]\n",
    "    sub= fig.add_subplot(2,3, i+1).set_title(model)\n",
    "    cm_plot = sns.heatmap(cm, annot=True, cmap=\"Blues_r\")\n",
    "    cm_plot.set_xlabel(\"Predicted Values\")\n",
    "    cm_plot.set_ylabel(\"Actual Values\")"
   ]
  },
  {
   "cell_type": "markdown",
   "id": "b8965a32",
   "metadata": {
    "id": "UeMNH2iizyrQ",
    "papermill": {
     "duration": 0.009944,
     "end_time": "2023-02-02T12:05:44.584021",
     "exception": false,
     "start_time": "2023-02-02T12:05:44.574077",
     "status": "completed"
    },
    "tags": []
   },
   "source": [
    "**Finding the Best to find the best model**"
   ]
  },
  {
   "cell_type": "code",
   "execution_count": null,
   "id": "0a28166f",
   "metadata": {
    "execution": {
     "iopub.execute_input": "2023-02-02T12:05:44.605323Z",
     "iopub.status.busy": "2023-02-02T12:05:44.604663Z",
     "iopub.status.idle": "2023-02-02T12:05:44.615725Z",
     "shell.execute_reply": "2023-02-02T12:05:44.614843Z"
    },
    "id": "TtOoKmepq2SS",
    "outputId": "8923bd94-0334-4f3f-9daa-23eab3cc02fd",
    "papermill": {
     "duration": 0.024466,
     "end_time": "2023-02-02T12:05:44.618081",
     "exception": false,
     "start_time": "2023-02-02T12:05:44.593615",
     "status": "completed"
    },
    "tags": []
   },
   "outputs": [],
   "source": [
    "result_df = pd.DataFrame({\"Model\":model_list,\"Accuracy\" :acc_list, \"AUC\":auc_list })\n",
    "result_df"
   ]
  },
  {
   "cell_type": "markdown",
   "id": "4c26de52",
   "metadata": {
    "id": "9SCHDMix8C6H",
    "papermill": {
     "duration": 0.00961,
     "end_time": "2023-02-02T12:05:44.638499",
     "exception": false,
     "start_time": "2023-02-02T12:05:44.628889",
     "status": "completed"
    },
    "tags": []
   },
   "source": [
    "the result say that Random Forest are the best model for the data set to make predicion"
   ]
  },
  {
   "cell_type": "markdown",
   "id": "dea7afc7",
   "metadata": {
    "id": "fwKQNsfmuUuk",
    "papermill": {
     "duration": 0.010019,
     "end_time": "2023-02-02T12:05:44.658429",
     "exception": false,
     "start_time": "2023-02-02T12:05:44.648410",
     "status": "completed"
    },
    "tags": []
   },
   "source": [
    "Make a prediction"
   ]
  },
  {
   "cell_type": "code",
   "execution_count": null,
   "id": "8abc2304",
   "metadata": {
    "execution": {
     "iopub.execute_input": "2023-02-02T12:05:44.681239Z",
     "iopub.status.busy": "2023-02-02T12:05:44.680835Z",
     "iopub.status.idle": "2023-02-02T12:05:47.350186Z",
     "shell.execute_reply": "2023-02-02T12:05:47.349393Z"
    },
    "id": "1eEMqPUJuY5d",
    "papermill": {
     "duration": 2.683062,
     "end_time": "2023-02-02T12:05:47.352624",
     "exception": false,
     "start_time": "2023-02-02T12:05:44.669562",
     "status": "completed"
    },
    "tags": []
   },
   "outputs": [],
   "source": [
    "from sklearn.ensemble import RandomForestClassifier\n",
    "\n",
    "clf=RandomForestClassifier(n_estimators=100)\n",
    "\n",
    "clf.fit(X_train,y_train)\n",
    "\n",
    "y_pred=clf.predict(X_test)"
   ]
  },
  {
   "cell_type": "code",
   "execution_count": null,
   "id": "674ca355",
   "metadata": {
    "execution": {
     "iopub.execute_input": "2023-02-02T12:05:47.374701Z",
     "iopub.status.busy": "2023-02-02T12:05:47.373771Z",
     "iopub.status.idle": "2023-02-02T12:05:47.381238Z",
     "shell.execute_reply": "2023-02-02T12:05:47.379353Z"
    },
    "id": "QRJaaikour9u",
    "outputId": "ebf0e56d-7bec-431e-e7d2-2c3deb05af9e",
    "papermill": {
     "duration": 0.021061,
     "end_time": "2023-02-02T12:05:47.383833",
     "exception": false,
     "start_time": "2023-02-02T12:05:47.362772",
     "status": "completed"
    },
    "tags": []
   },
   "outputs": [],
   "source": [
    "#checking the accuracy pf the model\n",
    "from sklearn import metrics\n",
    "print(\"Accuracy:\",metrics.accuracy_score(y_test, y_pred))"
   ]
  },
  {
   "cell_type": "markdown",
   "id": "a82b1f8a",
   "metadata": {
    "id": "60t2gCxlz9gQ",
    "papermill": {
     "duration": 0.010415,
     "end_time": "2023-02-02T12:05:47.405053",
     "exception": false,
     "start_time": "2023-02-02T12:05:47.394638",
     "status": "completed"
    },
    "tags": []
   },
   "source": [
    "**Preparing the data, here I use data from the updateed version of the original data**"
   ]
  },
  {
   "cell_type": "code",
   "execution_count": null,
   "id": "56175529",
   "metadata": {
    "execution": {
     "iopub.execute_input": "2023-02-02T12:05:47.426765Z",
     "iopub.status.busy": "2023-02-02T12:05:47.426440Z",
     "iopub.status.idle": "2023-02-02T12:05:47.435048Z",
     "shell.execute_reply": "2023-02-02T12:05:47.434054Z"
    },
    "id": "f5xzrz3Wuy06",
    "outputId": "dcd5fa8f-55d3-4b05-b3fc-cc06beaa70b6",
    "papermill": {
     "duration": 0.022077,
     "end_time": "2023-02-02T12:05:47.436833",
     "exception": false,
     "start_time": "2023-02-02T12:05:47.414756",
     "status": "completed"
    },
    "tags": []
   },
   "outputs": [],
   "source": [
    "guest = 36273 # can change by the guest Booking ID\n",
    "data1=data.iloc[[guest]].drop([\"Booking_ID\",\"arrival_month\",\"arrival_date\", \"booking_status\"],axis=1)\n",
    "#limiting the input data cause random forest just eccept 15 feature. so I eliminate by the less correlated to booking_status\n",
    "data1.values.tolist()"
   ]
  },
  {
   "cell_type": "code",
   "execution_count": null,
   "id": "77d189c0",
   "metadata": {
    "execution": {
     "iopub.execute_input": "2023-02-02T12:05:47.458448Z",
     "iopub.status.busy": "2023-02-02T12:05:47.457753Z",
     "iopub.status.idle": "2023-02-02T12:05:47.477592Z",
     "shell.execute_reply": "2023-02-02T12:05:47.475972Z"
    },
    "id": "bU_vpGJUy2ke",
    "outputId": "e35f878a-bae0-4eda-d093-0bb6f07716fc",
    "papermill": {
     "duration": 0.034131,
     "end_time": "2023-02-02T12:05:47.480868",
     "exception": false,
     "start_time": "2023-02-02T12:05:47.446737",
     "status": "completed"
    },
    "tags": []
   },
   "outputs": [],
   "source": [
    "code = clf.predict(data)\n",
    "if code == 0:\n",
    "    print(\"Not Cancel\")\n",
    "else:\n",
    "    print(\"cancel\")"
   ]
  },
  {
   "cell_type": "code",
   "execution_count": null,
   "id": "24d2460c",
   "metadata": {},
   "outputs": [],
   "source": []
  }
 ],
 "metadata": {
  "kernelspec": {
   "display_name": "Python 3 (ipykernel)",
   "language": "python",
   "name": "python3"
  },
  "language_info": {
   "codemirror_mode": {
    "name": "ipython",
    "version": 3
   },
   "file_extension": ".py",
   "mimetype": "text/x-python",
   "name": "python",
   "nbconvert_exporter": "python",
   "pygments_lexer": "ipython3",
   "version": "3.9.12"
  },
  "papermill": {
   "default_parameters": {},
   "duration": 101.019872,
   "end_time": "2023-02-02T12:05:50.671961",
   "environment_variables": {},
   "exception": null,
   "input_path": "__notebook__.ipynb",
   "output_path": "__notebook__.ipynb",
   "parameters": {},
   "start_time": "2023-02-02T12:04:09.652089",
   "version": "2.3.4"
  }
 },
 "nbformat": 4,
 "nbformat_minor": 5
}
